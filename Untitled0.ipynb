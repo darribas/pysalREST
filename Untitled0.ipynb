{
 "metadata": {
  "name": ""
 },
 "nbformat": 3,
 "nbformat_minor": 0,
 "worksheets": [
  {
   "cells": [
    {
     "cell_type": "code",
     "collapsed": false,
     "input": [
      "import pysal as ps\n",
      "import inspect"
     ],
     "language": "python",
     "metadata": {},
     "outputs": [],
     "prompt_number": 1
    },
    {
     "cell_type": "code",
     "collapsed": false,
     "input": [
      "for member_name, member in [module for module in inspect.getmembers(ps) if inspect.ismodule(module[1])]:\n",
      "    if member_name == 'weights':\n",
      "        print member_name, member\n",
      "        print dir(member)\n",
      "        print member.rook_from_shapefile"
     ],
     "language": "python",
     "metadata": {},
     "outputs": [
      {
       "output_type": "stream",
       "stream": "stdout",
       "text": [
        "weights <module 'pysal.weights' from '/Users/Jay/github/pysal/pysal/weights/__init__.pyc'>\n",
        "['Contiguity', 'Distance', 'DistanceBand', 'Kernel', 'W', 'WSP', 'WSP2W', 'Wsets', '__builtins__', '__doc__', '__file__', '__name__', '__package__', '__path__', '_contW_binning', 'adaptive_kernelW', 'adaptive_kernelW_from_shapefile', 'buildContiguity', 'build_lattice_shapefile', 'comb', 'full', 'full2W', 'get_ids', 'get_points_array_from_shapefile', 'higher_order', 'higher_order_sp', 'insert_diagonal', 'kernelW', 'kernelW_from_shapefile', 'knnW', 'knnW_from_array', 'knnW_from_shapefile', 'lag_spatial', 'lat2SW', 'lat2W', 'min_threshold_dist_from_shapefile', 'min_threshold_distance', 'order', 'queen_from_shapefile', 'regime_weights', 'remap_ids', 'rook_from_shapefile', 'shimbel', 'spatial_lag', 'threshold_binaryW_from_array', 'threshold_binaryW_from_shapefile', 'threshold_continuousW_from_array', 'threshold_continuousW_from_shapefile', 'user', 'util', 'w_clip', 'w_difference', 'w_intersection', 'w_local_cluster', 'w_subset', 'w_symmetric_difference', 'w_union', 'weights']\n",
        "<function rook_from_shapefile at 0x1054a0050>\n"
       ]
      }
     ],
     "prompt_number": 7
    },
    {
     "cell_type": "code",
     "collapsed": false,
     "input": [],
     "language": "python",
     "metadata": {},
     "outputs": []
    }
   ],
   "metadata": {}
  }
 ]
}